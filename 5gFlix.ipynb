{
 "cells": [
  {
   "cell_type": "code",
   "execution_count": null,
   "metadata": {},
   "outputs": [],
   "source": [
    "#importando biblioteca pandas, para gerenciar os dataframes\n",
    "import pandas as pd\n",
    "\n",
    "#lendo os arquivos csv e adicionando headers no arquivo de filmes\n",
    "customerData = pd.read_csv('customers_rating.csv',delimiter=\";\")\n",
    "moviesData = pd.read_csv('movies.csv', sep=',|;', header=None, engine='python')\n",
    "moviesData.columns = [\"Movie_Id\", \"Movie_Title\", \"Release_Date\"]"
   ]
  },
  {
   "cell_type": "code",
   "execution_count": null,
   "metadata": {},
   "outputs": [],
   "source": [
    "#(1.1) obtendo a quantidade de filmes\n",
    "moviesQtd = len(moviesData.axes[0])\n",
    "print(f'{moviesQtd} movies available.')"
   ]
  },
  {
   "cell_type": "code",
   "execution_count": 103,
   "metadata": {},
   "outputs": [],
   "source": [
    "#(1.2) obtendo os 5 filmes com melhor media de avaliacao\n",
    "bestMovies = {}\n",
    "\n",
    "for n in range(1,moviesQtd):\n",
    "  \n",
    "  ratings = customerData.loc[customerData['Movie_Id'] == n]\n",
    "  ratingsMean = ratings['Rating'].mean()\n",
    "\n",
    "  movieTitle = moviesData.query('Movie_Id == @n')['Movie_Title']\n",
    "  movieTitle = str(movieTitle)\n",
    "  movieTitle = movieTitle.split('\\n')[0]\n",
    "  movieTitle = movieTitle.split('(')[1]\n",
    "\n",
    "  bestMovies.update({movieTitle: ratingsMean})"
   ]
  },
  {
   "cell_type": "code",
   "execution_count": 104,
   "metadata": {},
   "outputs": [
    {
     "name": "stdout",
     "output_type": "stream",
     "text": [
      "Movies with the best rating mean:\n",
      "\n",
      "Lost: Season 1 = 4.7\n",
      "Ghost in the Shell: Stand Alone Complex: 2nd Gig = 4.6\n",
      "The Simpsons: Season 6 = 4.6\n",
      "Inu-Yasha = 4.6\n",
      "Lord of the Rings: The Return of the King: Ex... = 4.6\n"
     ]
    }
   ],
   "source": [
    "#(1.2) organizando os filmes com melhores avaliacoes, em ordem descrescente\n",
    "orderedBestMovies = sorted(bestMovies.items(), key=lambda x:x[1], reverse=True)\n",
    "#(1.2) imprimindo\n",
    "print(f'Movies with the best rating mean:\\n')\n",
    "for x in orderedBestMovies[:5]:\n",
    "  print('%s = %.1f' %(x[0],x[1]))"
   ]
  },
  {
   "cell_type": "code",
   "execution_count": null,
   "metadata": {},
   "outputs": [],
   "source": [
    "#(1.3) obtendo os 9 anos com menos lançamentos de filmes\n",
    "releaseYears = moviesData['Release_Date'].value_counts().reset_index()\n",
    "releaseYears.columns = ['Year', 'Released_Movies']\n",
    "count = 1\n",
    "years = []\n",
    "moviesReleased = []\n",
    "\n",
    "leastYears = releaseYears.tail(9)\n",
    "\n",
    "for item in leastYears.values:\n",
    "  for i in item:\n",
    "    i = str(i)\n",
    "    i = i.replace(')','')\n",
    "    i = i.replace(' ','')\n",
    "    i = i.replace('\\n','')\n",
    "\n",
    "    if(count%2 == 1):\n",
    "      years.append(int(i))\n",
    "     \n",
    "    else:\n",
    "      moviesReleased.append(int(i))\n",
    "\n",
    "    count+=1\n",
    "\n",
    "print('Years with the least quantity of movie releases\\n')\n",
    "\n",
    "for x in range(0,9):\n",
    "  print('%d = %d movie(s) released'% (years[x], moviesReleased[x]))"
   ]
  },
  {
   "cell_type": "code",
   "execution_count": null,
   "metadata": {},
   "outputs": [],
   "source": [
    "#(1.4) obtendo a ultima data de avaliacoes\n",
    "lastDate = customerData['Date'].sort_values().tail(6).reset_index(drop=True)\n",
    "lastDate = str(lastDate).split()[1]\n",
    "\n",
    "#(1,4) obtendo quantidade filmes com avaliacao >= 4.7 na ultima data de avaliacoes e polindo os dados\n",
    "lastRatings = customerData.loc[customerData['Date'] == lastDate]\n",
    "bestR = {}\n",
    "lastRatingsQtd = len(lastRatings)\n",
    "\n",
    "for n in range(1,lastRatingsQtd):\n",
    "  r = lastRatings.loc[lastRatings['Movie_Id'] == n]\n",
    "  rMean = r['Rating'].mean()  \n",
    "  if(not len(r) == 0 and rMean >= 4.7):\n",
    "    \n",
    "    lastMovieTitle = moviesData.query('Movie_Id == @n')['Movie_Title']\n",
    "    lastMovieTitle = str(lastMovieTitle)\n",
    "    lastMovieTitle = lastMovieTitle.split('\\n')[0]\n",
    "    lastMovieTitle = lastMovieTitle.split('(')[1]\n",
    "    \n",
    "    bestR.update({lastMovieTitle: rMean})\n",
    "#(1.4) imprimindo \n",
    "print('Number of movies rated 4.7 or higher: \\n')\n",
    "print(len(bestR))"
   ]
  },
  {
   "cell_type": "code",
   "execution_count": null,
   "metadata": {},
   "outputs": [],
   "source": [
    "#(1.5) organizando os filmes com as piores avaliacoes, em ordem crescente\n",
    "orderedLastMovies = sorted(bestR.items(), key=lambda x:x[1], reverse=False)\n",
    "print(f'Movies with the worst average rating:\\n')\n",
    "for x in orderedLastMovies[:10]:\n",
    "  print('%s = %.2f' %(x[0],x[1]))"
   ]
  },
  {
   "cell_type": "code",
   "execution_count": null,
   "metadata": {},
   "outputs": [],
   "source": [
    "#(1.6) obtendo os 5 customer que mais avaliaram\n",
    "c = customerData\n",
    "c2 = c['Cust_Id'].value_counts().reset_index()\n",
    "c2.columns = ['Cust_Id', 'Ratings_Qtd']  #nao mexe\n",
    "c2 = c2.head(5)\n",
    " \n",
    "# polindo os dados e imprimindo\n",
    "customerIds = []\n",
    "ratingsQtd = []\n",
    "count = 0\n",
    "\n",
    "for item in c2.values:\n",
    "  for i in item:\n",
    "    i = str(i)\n",
    "    i = i.replace(')','')\n",
    "    i = i.replace(' ','')\n",
    "    i = i.replace('\\n','')\n",
    "\n",
    "    if(count%2 == 1):\n",
    "      ratingsQtd.append(int(i))\n",
    "     \n",
    "    else:\n",
    "      customerIds.append(int(i))\n",
    "    \n",
    "    count+=1\n",
    "\n",
    "print(\"Id's of the customers with the most ratings: \\n\")\n",
    "\n",
    "for x in range(0,5):\n",
    "  print('%d = %d '% (customerIds[x], ratingsQtd[x]))\n"
   ]
  }
 ],
 "metadata": {
  "kernelspec": {
   "display_name": "Python 3",
   "language": "python",
   "name": "python3"
  },
  "language_info": {
   "codemirror_mode": {
    "name": "ipython",
    "version": 3
   },
   "file_extension": ".py",
   "mimetype": "text/x-python",
   "name": "python",
   "nbconvert_exporter": "python",
   "pygments_lexer": "ipython3",
   "version": "3.11.1"
  },
  "orig_nbformat": 4,
  "vscode": {
   "interpreter": {
    "hash": "b2279f1ed99ca9cbcd32a4072efc9aa21da65b349edcb4ee0bde6687320ab039"
   }
  }
 },
 "nbformat": 4,
 "nbformat_minor": 2
}
