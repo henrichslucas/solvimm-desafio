{
 "cells": [
  {
   "cell_type": "code",
   "execution_count": 71,
   "metadata": {},
   "outputs": [],
   "source": [
    "#importando biblioteca pandas, para gerenciar os dataframes\n",
    "import pandas as pd\n",
    "\n",
    "#lendo os arquivos csv e adicionando headers no arquivo de filmes\n",
    "customerData = pd.read_csv('customers_rating.csv',sep=\";\")\n",
    "moviesData = pd.read_csv('movies.csv', sep=',|;', header=None, engine='python')\n",
    "moviesData.columns = [\"Movie_Id\", \"Movie_Title\", \"Release_Date\"]"
   ]
  },
  {
   "cell_type": "code",
   "execution_count": 72,
   "metadata": {},
   "outputs": [
    {
     "name": "stdout",
     "output_type": "stream",
     "text": [
      "Number of movies available:\n",
      "\n",
      "4499\n"
     ]
    }
   ],
   "source": [
    "#(1.1) obtendo a quantidade de filmes\n",
    "moviesQtd = moviesData['Movie_Id'].size\n",
    "print('Number of movies available:\\n')\n",
    "print(moviesQtd)"
   ]
  },
  {
   "cell_type": "code",
   "execution_count": 73,
   "metadata": {},
   "outputs": [
    {
     "name": "stdout",
     "output_type": "stream",
     "text": [
      "Movies with the best average rating :\n",
      "\n",
      "Lost: Season 1 = 4.7\n",
      "Ghost in the Shell: Stand Alone Complex: 2nd Gig = 4.6\n",
      "The Simpsons: Season 6 = 4.6\n",
      "Inu-Yasha = 4.6\n",
      "Lord of the Rings: The Return of the King: Ex... = 4.6\n"
     ]
    }
   ],
   "source": [
    "#(1.2) obtendo os 5 filmes com melhor media de avaliacao\n",
    "bestMovies = {}\n",
    "\n",
    "for n in range(1,moviesQtd):\n",
    "  \n",
    "  ratings = customerData.loc[customerData['Movie_Id'] == n]\n",
    "  ratingsMean = ratings['Rating'].mean()\n",
    "\n",
    "  movieTitle = moviesData.loc[moviesData['Movie_Id'] == n]\n",
    "  movieTitle = str(movieTitle['Movie_Title'])\n",
    "  movieTitle = movieTitle.split('\\n')[0]\n",
    "  movieTitle = movieTitle.split('(')[1]\n",
    "\n",
    "  bestMovies.update({movieTitle: ratingsMean})\n",
    "\n",
    "#(1.2) ordenando os filmes com melhores avaliacoes, em ordem descrescente\n",
    "orderedBestMovies = sorted(bestMovies.items(), key=lambda x:x[1], reverse=True)\n",
    "\n",
    "print(f'Movies with the best average rating :\\n')\n",
    "for x in orderedBestMovies[:5]:\n",
    "  print('%s = %.1f' %(x[0],x[1]))"
   ]
  },
  {
   "cell_type": "code",
   "execution_count": 74,
   "metadata": {},
   "outputs": [
    {
     "name": "stdout",
     "output_type": "stream",
     "text": [
      "Years with the fewest movie releases:\n",
      "\n",
      "1924 = 2 movie(s) released\n",
      "1916 = 2 movie(s) released\n",
      "1929 = 2 movie(s) released\n",
      "1918 = 2 movie(s) released\n",
      "1931 = 2 movie(s) released\n",
      "1922 = 1 movie(s) released\n",
      "1915 = 1 movie(s) released\n",
      "1926 = 1 movie(s) released\n",
      "1917 = 1 movie(s) released\n"
     ]
    }
   ],
   "source": [
    "#(1.3) obtendo os 9 anos com menos lançamentos de filmes\n",
    "releaseYears = moviesData['Release_Date'].value_counts().reset_index()\n",
    "count = 1\n",
    "years = []\n",
    "moviesReleased = []\n",
    "\n",
    "leastYears = releaseYears.tail(9)\n",
    "\n",
    "for item in leastYears.values:\n",
    "  for i in item:\n",
    "    i = str(i)\n",
    "    i = i.replace(')','')\n",
    "    i = i.replace(' ','')\n",
    "    i = i.replace('\\n','')\n",
    "\n",
    "    if(count%2 == 1):\n",
    "      years.append(int(i))\n",
    "     \n",
    "    else:\n",
    "      moviesReleased.append(int(i))\n",
    "\n",
    "    count+=1\n",
    "\n",
    "print('Years with the fewest movie releases:\\n')\n",
    "\n",
    "for x in range(0,9):\n",
    "  print('%d = %d movie(s) released'% (years[x], moviesReleased[x]))"
   ]
  },
  {
   "cell_type": "code",
   "execution_count": 75,
   "metadata": {},
   "outputs": [
    {
     "name": "stdout",
     "output_type": "stream",
     "text": [
      "Number of movies rated 4.7 or higher: \n",
      "\n",
      "195\n"
     ]
    }
   ],
   "source": [
    "#(1.4) obtendo a ultima data de avaliacoes\n",
    "lastDate = customerData['Date'].sort_values().tail(1).reset_index(drop=True)\n",
    "lastDate = str(lastDate).split()[1]\n",
    "\n",
    "#(1,4) obtendo quantidade filmes com avaliacao >= 4.7 na ultima data de avaliacoes e polindo os dados\n",
    "lastRatings = customerData.loc[customerData['Date'] == lastDate]\n",
    "bestR = {}\n",
    "lastRatingsQtd = len(lastRatings)\n",
    "\n",
    "for n in range(1,lastRatingsQtd):\n",
    "  r = lastRatings.loc[lastRatings['Movie_Id'] == n]\n",
    "  rMean = r['Rating'].mean()  \n",
    "  if(not len(r) == 0 and rMean >= 4.7):\n",
    "    \n",
    "    lastMovieTitle = moviesData.loc[moviesData['Movie_Id'] == n]\n",
    "    lastMovieTitle = str(lastMovieTitle['Movie_Title'])\n",
    "    lastMovieTitle = lastMovieTitle.split('\\n')[0]\n",
    "    lastMovieTitle = lastMovieTitle.split('(')[1]\n",
    "    \n",
    "    bestR.update({lastMovieTitle: rMean})\n",
    "    \n",
    "print('Number of movies rated 4.7 or higher: \\n')\n",
    "print(len(bestR))"
   ]
  },
  {
   "cell_type": "code",
   "execution_count": 76,
   "metadata": {},
   "outputs": [
    {
     "name": "stdout",
     "output_type": "stream",
     "text": [
      "Movies with the worst latest average rating:\n",
      "\n",
      "Spirited Away = 4.71\n",
      "The Twilight Zone: Vol. 15 = 4.75\n",
      "An Evening With Kevin Smith = 4.75\n",
      "Gilmore Girls: Season 3 = 4.75\n",
      "The Twilight Zone: Vol. 41 = 4.75\n",
      "Absolutely Fabulous: Series 2 = 4.75\n",
      "Pete's Dragon = 4.75\n",
      "SpongeBob SquarePants: Season 3 = 4.75\n",
      "In the Mood for Love = 4.80\n",
      "Curb Your Enthusiasm: Season 3 = 4.80\n"
     ]
    }
   ],
   "source": [
    "#(1.5) ordenando os filmes com as piores das avaliacoes >= 4.7 mais recentes, em ordem crescente\n",
    "worstLastMovies = sorted(bestR.items(), key=lambda x:x[1], reverse=False)\n",
    "print(f'Movies with the worst latest average rating:\\n')\n",
    "for x in worstLastMovies[:10]:\n",
    "  print('%s = %.2f' %(x[0],x[1]))"
   ]
  },
  {
   "cell_type": "code",
   "execution_count": 77,
   "metadata": {},
   "outputs": [
    {
     "name": "stdout",
     "output_type": "stream",
     "text": [
      "Id's of customers who rated the most times:\n",
      "\n",
      "305344 = 4467 ratings.\n",
      "387418 = 4422 ratings.\n",
      "2439493 = 4195 ratings.\n",
      "1664010 = 4019 ratings.\n",
      "2118461 = 3769 ratings.\n"
     ]
    }
   ],
   "source": [
    "#(1.6) obtendo os 5 customer que mais avaliaram\n",
    "c = customerData['Cust_Id'].value_counts().reset_index()\n",
    "c.columns = ['Cust_Id', 'Ratings_Qtd'] \n",
    "c = c.head(5)\n",
    " \n",
    "customerIds = []\n",
    "ratingsQtd = []\n",
    "\n",
    "for r in c['Ratings_Qtd']:\n",
    "  ratingsQtd.append(int(r))\n",
    "     \n",
    "for id_c in c['Cust_Id']:\n",
    "  customerIds.append(int(id_c))\n",
    "\n",
    "print(\"Id's of customers who rated the most times:\\n\")\n",
    "\n",
    "for x in range(0,5):\n",
    "  print('%d = %d ratings.'% (customerIds[x], ratingsQtd[x]))\n"
   ]
  }
 ],
 "metadata": {
  "kernelspec": {
   "display_name": "Python 3",
   "language": "python",
   "name": "python3"
  },
  "language_info": {
   "codemirror_mode": {
    "name": "ipython",
    "version": 3
   },
   "file_extension": ".py",
   "mimetype": "text/x-python",
   "name": "python",
   "nbconvert_exporter": "python",
   "pygments_lexer": "ipython3",
   "version": "3.11.1"
  },
  "orig_nbformat": 4,
  "vscode": {
   "interpreter": {
    "hash": "b2279f1ed99ca9cbcd32a4072efc9aa21da65b349edcb4ee0bde6687320ab039"
   }
  }
 },
 "nbformat": 4,
 "nbformat_minor": 2
}
